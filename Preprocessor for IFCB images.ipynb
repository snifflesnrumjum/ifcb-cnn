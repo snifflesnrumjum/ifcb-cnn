{
 "cells": [
  {
   "cell_type": "markdown",
   "metadata": {},
   "source": [
    "This notebook will resize IFCB images for use in the CNN.<br>\n",
    "This should be run first before training the CNN."
   ]
  },
  {
   "cell_type": "code",
   "execution_count": null,
   "metadata": {},
   "outputs": [],
   "source": [
    "import matplotlib.pyplot as plt\n",
    "import matplotlib.image as mpimg\n",
    "import skimage.transform as ski_transform\n",
    "import skimage.io as ski_io\n",
    "from skimage import img_as_float\n",
    "import cv2 as cv2\n",
    "\n",
    "%matplotlib inline\n",
    "import numpy as np\n",
    "import os\n",
    "import warnings\n",
    "warnings.filterwarnings('ignore')"
   ]
  },
  {
   "cell_type": "code",
   "execution_count": null,
   "metadata": {},
   "outputs": [],
   "source": [
    "#Where are the folders of training images you want to use?\n",
    "folder_of_images = '/path/to/training_images/'\n",
    "\n",
    "#where do you want the resized images to be output?\n",
    "out_folder_of_images = '/path/to/outfolder/of/modified/training_images/' \n"
   ]
  },
  {
   "cell_type": "code",
   "execution_count": null,
   "metadata": {
    "scrolled": true
   },
   "outputs": [],
   "source": [
    "#walk the directory to find all PNGs and open them one by one for RESIZING\n",
    "photos = os.walk(folder_of_images)\n",
    "image_size = 300\n",
    "num_photo = 0\n",
    "type_of_images = ['png', 'tif', 'jpg']\n",
    "for files in photos:\n",
    "    print(files[0])\n",
    "    outdir = files[0].split('/')[-1]\n",
    "    if outdir not in os.listdir(out_folder_of_images) and outdir != '':\n",
    "        os.mkdir('{0}/{1}'.format(out_folder_of_images, outdir))\n",
    "    files_done = os.listdir(out_folder_of_images + outdir)\n",
    "    for picture in files[2]:\n",
    "        if picture[-3:] in type_of_images:\n",
    "            if picture in files_done:\n",
    "                continue\n",
    "            else:\n",
    "                num_photo += 1\n",
    "                temp_image = ski_io.imread(files[0] + '/' + picture)\n",
    "                temp_shape = temp_image.shape\n",
    "                bkgd_mean = temp_image[0,:].mean()\n",
    "                if temp_image.shape[0] != temp_image.shape[1]:\n",
    "                    if temp_image.shape[0] > image_size or temp_image.shape[1] > image_size:\n",
    "                        new_image = np.full((max(temp_image.shape), max(temp_image.shape)), bkgd_mean)\n",
    "                    else:\n",
    "                        new_image = np.full((image_size, image_size), bkgd_mean)\n",
    "                    new_shape = new_image.shape\n",
    "                    center = np.array(new_shape) - np.array(temp_image.shape)\n",
    "                    new_image[int(center[0]/2):(int(center[0]/2) + temp_shape[0]), int(center[1]/2):(int(center[1]/2) + temp_shape[1])] = temp_image           \n",
    "                    ski_io.imsave('{0}/{1}/{2}.png'.format(out_folder_of_images, outdir, picture[:-4]), new_image.astype('uint8'))\n",
    "                elif temp_image.shape[0] < image_size:\n",
    "                    new_image = ski_transform.resize(temp_image, (image_size, image_size))\n",
    "                    ski_io.imsave('{0}/{1}/{2}.png'.format(out_folder_of_images, outdir, picture[:-4]), new_image.astype('uint8'))\n",
    "                else:\n",
    "                    print(picture)\n",
    "                    pass\n",
    "            \n",
    "            "
   ]
  }
 ],
 "metadata": {
  "kernelspec": {
   "display_name": "Python 3",
   "language": "python",
   "name": "python3"
  },
  "language_info": {
   "codemirror_mode": {
    "name": "ipython",
    "version": 3
   },
   "file_extension": ".py",
   "mimetype": "text/x-python",
   "name": "python",
   "nbconvert_exporter": "python",
   "pygments_lexer": "ipython3",
   "version": "3.6.9"
  }
 },
 "nbformat": 4,
 "nbformat_minor": 2
}
